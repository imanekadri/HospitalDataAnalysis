{
 "cells": [
  {
   "cell_type": "code",
   "execution_count": null,
   "id": "25bad776-496f-4039-94bc-75400c40cb49",
   "metadata": {},
   "outputs": [],
   "source": [
    "# 1️⃣ استيراد المكتبات اللازمة\n",
    "import pandas as pd\n",
    "import matplotlib.pyplot as plt\n",
    "\n",
    "# 2️⃣ قراءة ملف CSV من مجلد data\n",
    "df = pd.read_csv(\"../data/patients.csv\")\n",
    "\n",
    "# 3️⃣ عرض أول 5 صفوف للتأكد من البيانات\n",
    "df.head()\n"
   ]
  }
 ],
 "metadata": {
  "kernelspec": {
   "display_name": "Python 3 (ipykernel)",
   "language": "python",
   "name": "python3"
  },
  "language_info": {
   "codemirror_mode": {
    "name": "ipython",
    "version": 3
   },
   "file_extension": ".py",
   "mimetype": "text/x-python",
   "name": "python",
   "nbconvert_exporter": "python",
   "pygments_lexer": "ipython3",
   "version": "3.13.7"
  }
 },
 "nbformat": 4,
 "nbformat_minor": 5
}
